{
  "nbformat": 4,
  "nbformat_minor": 0,
  "metadata": {
    "colab": {
      "name": "Converte TXT para daily csv",
      "provenance": [],
      "collapsed_sections": [],
      "include_colab_link": true
    },
    "kernelspec": {
      "name": "python3",
      "display_name": "Python 3"
    }
  },
  "cells": [
    {
      "cell_type": "markdown",
      "metadata": {
        "id": "view-in-github",
        "colab_type": "text"
      },
      "source": [
        "<a href=\"https://colab.research.google.com/github/Vihelisa/dados.Python/blob/main/Converte_TXT_para_daily_csv.ipynb\" target=\"_parent\"><img src=\"https://colab.research.google.com/assets/colab-badge.svg\" alt=\"Open In Colab\"/></a>"
      ]
    },
    {
      "cell_type": "code",
      "metadata": {
        "colab": {
          "resources": {
            "http://localhost:8080/nbextensions/google.colab/files.js": {
              "data": "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",
              "ok": true,
              "headers": [
                [
                  "content-type",
                  "application/javascript"
                ]
              ],
              "status": 200,
              "status_text": ""
            }
          },
          "base_uri": "https://localhost:8080/",
          "height": 73
        },
        "id": "PiXKpuOZGeRE",
        "outputId": "9c8b1812-9f83-4ea5-8f21-e1cb4619518b"
      },
      "source": [
        "from google.colab import files \r\n",
        "uploaded = files.upload() \r\n",
        "keys = list(uploaded.keys())\r\n",
        "real_file = uploaded[keys[0]]\r\n",
        "\r\n",
        "#keys é o nome do arquivo"
      ],
      "execution_count": 1,
      "outputs": [
        {
          "output_type": "display_data",
          "data": {
            "text/html": [
              "\n",
              "     <input type=\"file\" id=\"files-d50cce0e-51ff-477b-8688-df06aa2093ab\" name=\"files[]\" multiple disabled\n",
              "        style=\"border:none\" />\n",
              "     <output id=\"result-d50cce0e-51ff-477b-8688-df06aa2093ab\">\n",
              "      Upload widget is only available when the cell has been executed in the\n",
              "      current browser session. Please rerun this cell to enable.\n",
              "      </output>\n",
              "      <script src=\"/nbextensions/google.colab/files.js\"></script> "
            ],
            "text/plain": [
              "<IPython.core.display.HTML object>"
            ]
          },
          "metadata": {
            "tags": []
          }
        },
        {
          "output_type": "stream",
          "text": [
            "Saving datalog_A5.txt to datalog_A5.txt\n"
          ],
          "name": "stdout"
        }
      ]
    },
    {
      "cell_type": "code",
      "metadata": {
        "id": "0pzyL7owgMFS"
      },
      "source": [
        "def dividir(div):\r\n",
        " resultado = DadoLinhaInteira.split('M')\r\n",
        " return resultado[0], resultado[1]\r\n",
        "\r\n",
        "\r\n",
        "def convert(hexT, hexU):\r\n",
        "  separarT, separarU = [hexT.split('.'), hexU.split('.')]\r\n",
        "  separar_frenteT = str(int(separarT[0], 16)) \r\n",
        "  separar_trasT = str(int(separarT[1], 16)) \r\n",
        "  separar_frenteU = str(int(separarU[0], 16)) \r\n",
        "  separar_trasU = str(int(separarU[1], 16)) \r\n",
        "  TEMP = separar_frenteT + '.' + separar_trasT\r\n",
        "  UMI = separar_frenteU + '.' + separar_trasU \r\n",
        "  T_U = [TEMP, UMI]\r\n",
        "  return T_U\r\n",
        "\r\n",
        "\r\n",
        "def data_in_date(data):\r\n",
        "  data_inteira = Dado_Data + '/2021'\r\n",
        "  data_inteira = datetime.strptime(data_inteira, '%d/%m/%Y').date()\r\n",
        "  return data_inteira\r\n",
        "\r\n",
        "  \r\n",
        "def hora_in_time (hora):\r\n",
        "  hora_inteira = Dado_Hora + ':00'\r\n",
        "  hora_inteira = datetime.strptime(hora_inteira, '%H:%M:%S').time()\r\n",
        "  return hora_inteira\r\n"
      ],
      "execution_count": 10,
      "outputs": []
    },
    {
      "cell_type": "markdown",
      "metadata": {
        "id": "tUcwKbG2ZkRp"
      },
      "source": [
        "main"
      ]
    },
    {
      "cell_type": "markdown",
      "metadata": {
        "id": "jic12nmF2jkB"
      },
      "source": [
        "-Abrindo arquivo"
      ]
    },
    {
      "cell_type": "code",
      "metadata": {
        "id": "-GGppNwiYpmb",
        "colab": {
          "base_uri": "https://localhost:8080/"
        },
        "outputId": "d769c00f-8218-4f95-f316-14101a388aab"
      },
      "source": [
        "#path = uploaded\r\n",
        "#ref_arquivo = open(path, 'r')\r\n",
        "#arquivi_convertido = ref_arquivo.read()\r\n",
        "\r\n",
        "file_as_list = real_file.split()\r\n",
        "converted_list = []\r\n",
        "for byte_element in file_as_list:\r\n",
        "  converted_list.append(byte_element.decode(\"utf-8\"))\r\n",
        "\r\n",
        "\r\n",
        "####\r\n",
        "#TEMPORARIO\r\n",
        "arquivo_list = converted_list\r\n",
        "#####\r\n",
        "\r\n",
        "import pandas as pd \r\n",
        "from datetime import datetime\r\n",
        "from datetime import date\r\n",
        "df = pd.DataFrame()\r\n",
        "\r\n",
        "for DadoLinhaInteira in arquivo_list:\r\n",
        "  if 'MID_' in DadoLinhaInteira:\r\n",
        "  #if 0:\r\n",
        "    print('ReStart')\r\n",
        "  else:\r\n",
        "    periodo, dados = dividir(DadoLinhaInteira)\r\n",
        "    Dado_Data, Dado_Hora = periodo.split('_')\r\n",
        "    Dado_D = data_in_date(Dado_Data)\r\n",
        "    Dado_H = hora_in_time(Dado_Hora)\r\n",
        "    Dado_DH = [Dado_D, Dado_H]\r\n",
        "    Dado_hexT, Dado_hexU = dados.split('P')\r\n",
        "    Dado_TU = convert(Dado_hexT, Dado_hexU)\r\n",
        "    lista_dados = [Dado_DH[0], Dado_DH[1], Dado_TU[0], Dado_TU[1]]\r\n",
        "    dados_dict =  { 'Data': lista_dados[0], 'Hora':lista_dados[1], 'Temperatura':lista_dados[2], 'Umidade':lista_dados[3]}\r\n",
        "    df = df.append(dados_dict, ignore_index=True)\r\n",
        "    #print(dados_dict)\r\n",
        "\r\n",
        "\r\n",
        "df['Time'] = df['Data'].map(str) + ' ' + df['Hora'].map(str)\r\n",
        "df['delta'] = df['Time']\r\n",
        "df.set_index('Time', inplace = True)\r\n",
        "df['etto'] = pd.to_datetime(df['delta'])\r\n",
        "#convert data from string to float\r\n",
        "df['tempf'] = df['Temperatura'].apply(pd.to_numeric)\r\n",
        "df['humi'] = df['Umidade'].apply(pd.to_numeric)\r\n"
      ],
      "execution_count": 11,
      "outputs": [
        {
          "output_type": "stream",
          "text": [
            "ReStart\n",
            "ReStart\n",
            "ReStart\n",
            "ReStart\n"
          ],
          "name": "stdout"
        }
      ]
    },
    {
      "cell_type": "code",
      "metadata": {
        "id": "QQ8AtDreMhc1"
      },
      "source": [
        "#separate by hour\r\n",
        "df_ok = df.copy()\r\n",
        "#print(df_ok.shape)\r\n",
        "temperature_only = df_ok.resample('H',on='etto').tempf.mean()\r\n",
        "humidity_only = df_ok.resample('H',on='etto').humi.mean()\r\n",
        "\r\n",
        "#join it on a dataframe\r\n",
        "temperature_frame = temperature_only.to_frame()\r\n",
        "humidity_frame = humidity_only.to_frame()\r\n",
        "df_data_by_hour = temperature_frame.join(humidity_frame)\r\n",
        "\r\n",
        "\r\n",
        "import numpy as np\r\n",
        "\r\n",
        "#add molhamento\r\n",
        "df_data_by_hour['molhamento'] = '0'\r\n",
        "\r\n",
        "#add t_dpm\r\n",
        "df_data_by_hour['t_dpm'] = '0'\r\n",
        "\r\n",
        "for index, row in df_data_by_hour.iterrows():\r\n",
        "  if float(row[1]) > 90:\r\n",
        "    #print(row[1])\r\n",
        "    #df_data_by_hour['molhamento'][row] = 1\r\n",
        "    df_data_by_hour.loc[index, 'molhamento'] = 1\r\n",
        "    df_data_by_hour.loc[index, 't_dpm'] = float(row[0])\r\n",
        "  else:\r\n",
        "    df_data_by_hour.loc[index, 't_dpm'] = np.NaN\r\n",
        "\r\n",
        "\r\n",
        "#Finish the hour dataframe\r\n",
        "df_complete_hour = df_data_by_hour.copy()\r\n",
        "df_complete_hour.columns = ['Temperature','Humidity','Molhamento', 'T_DPM']\r\n",
        "#df_complete_hour.head() \r\n",
        "\r\n",
        "df_buffer_by_day = df_complete_hour.copy()\r\n",
        "\r\n",
        "#convert to numeric to avoid errors\r\n",
        "df_buffer_by_day['Molhamento_integer'] = df_buffer_by_day['Molhamento'].apply(pd.to_numeric)\r\n",
        "df_buffer_by_day['T_DPM_integer'] = df_buffer_by_day['T_DPM'].apply(pd.to_numeric)\r\n",
        "\r\n",
        "#separates by day\r\n",
        "temperature_mean_by_day = df_buffer_by_day.resample('D').Temperature.mean()\r\n",
        "humidity_mean_by_day = df_buffer_by_day.resample('D').Humidity.mean()\r\n",
        "molhamento_sum_by_day = df_buffer_by_day.resample('D').Molhamento_integer.sum()\r\n",
        "T_DPM_MEAN_by_day = df_buffer_by_day.resample('D').T_DPM_integer.mean()\r\n",
        "\r\n",
        "#concat all series\r\n",
        "isolated_series = {'Temperature': temperature_mean_by_day, 'Humidity':humidity_mean_by_day, 'Molhamento':molhamento_sum_by_day, 'T_DPM':T_DPM_MEAN_by_day}\r\n",
        "df_final_result = pd.DataFrame(isolated_series)\r\n"
      ],
      "execution_count": 13,
      "outputs": []
    },
    {
      "cell_type": "code",
      "metadata": {
        "id": "6XPV9tSYdu_p",
        "colab": {
          "base_uri": "https://localhost:8080/",
          "height": 225
        },
        "outputId": "be85603e-737f-4828-a225-239c73065106"
      },
      "source": [
        "#df_final_result.to_csv(\"data_by_day_1.csv\")\r\n",
        "output_file_name = keys[0][:-4] \r\n",
        "df_final_result.to_csv(output_file_name+ '.csv', index=False)\r\n",
        "df_final_result.head()"
      ],
      "execution_count": 14,
      "outputs": [
        {
          "output_type": "execute_result",
          "data": {
            "text/html": [
              "<div>\n",
              "<style scoped>\n",
              "    .dataframe tbody tr th:only-of-type {\n",
              "        vertical-align: middle;\n",
              "    }\n",
              "\n",
              "    .dataframe tbody tr th {\n",
              "        vertical-align: top;\n",
              "    }\n",
              "\n",
              "    .dataframe thead th {\n",
              "        text-align: right;\n",
              "    }\n",
              "</style>\n",
              "<table border=\"1\" class=\"dataframe\">\n",
              "  <thead>\n",
              "    <tr style=\"text-align: right;\">\n",
              "      <th></th>\n",
              "      <th>Temperature</th>\n",
              "      <th>Humidity</th>\n",
              "      <th>Molhamento</th>\n",
              "      <th>T_DPM</th>\n",
              "    </tr>\n",
              "    <tr>\n",
              "      <th>etto</th>\n",
              "      <th></th>\n",
              "      <th></th>\n",
              "      <th></th>\n",
              "      <th></th>\n",
              "    </tr>\n",
              "  </thead>\n",
              "  <tbody>\n",
              "    <tr>\n",
              "      <th>2021-01-05</th>\n",
              "      <td>23.259394</td>\n",
              "      <td>85.128788</td>\n",
              "      <td>5</td>\n",
              "      <td>20.996000</td>\n",
              "    </tr>\n",
              "    <tr>\n",
              "      <th>2021-01-06</th>\n",
              "      <td>27.558562</td>\n",
              "      <td>67.513056</td>\n",
              "      <td>4</td>\n",
              "      <td>20.358750</td>\n",
              "    </tr>\n",
              "    <tr>\n",
              "      <th>2021-01-07</th>\n",
              "      <td>26.408492</td>\n",
              "      <td>59.500625</td>\n",
              "      <td>0</td>\n",
              "      <td>NaN</td>\n",
              "    </tr>\n",
              "    <tr>\n",
              "      <th>2021-01-08</th>\n",
              "      <td>27.213204</td>\n",
              "      <td>47.773373</td>\n",
              "      <td>0</td>\n",
              "      <td>NaN</td>\n",
              "    </tr>\n",
              "    <tr>\n",
              "      <th>2021-01-09</th>\n",
              "      <td>26.290694</td>\n",
              "      <td>65.449792</td>\n",
              "      <td>2</td>\n",
              "      <td>21.773333</td>\n",
              "    </tr>\n",
              "  </tbody>\n",
              "</table>\n",
              "</div>"
            ],
            "text/plain": [
              "            Temperature   Humidity  Molhamento      T_DPM\n",
              "etto                                                     \n",
              "2021-01-05    23.259394  85.128788           5  20.996000\n",
              "2021-01-06    27.558562  67.513056           4  20.358750\n",
              "2021-01-07    26.408492  59.500625           0        NaN\n",
              "2021-01-08    27.213204  47.773373           0        NaN\n",
              "2021-01-09    26.290694  65.449792           2  21.773333"
            ]
          },
          "metadata": {
            "tags": []
          },
          "execution_count": 14
        }
      ]
    },
    {
      "cell_type": "code",
      "metadata": {
        "id": "86f061HyjJpQ"
      },
      "source": [
        ""
      ],
      "execution_count": null,
      "outputs": []
    }
  ]
}