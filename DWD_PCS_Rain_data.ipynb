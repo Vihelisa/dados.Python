{
  "nbformat": 4,
  "nbformat_minor": 0,
  "metadata": {
    "colab": {
      "name": "DWD-PCS-Rain_data",
      "provenance": [],
      "include_colab_link": true
    },
    "kernelspec": {
      "name": "python3",
      "display_name": "Python 3"
    }
  },
  "cells": [
    {
      "cell_type": "markdown",
      "metadata": {
        "id": "view-in-github",
        "colab_type": "text"
      },
      "source": [
        "<a href=\"https://colab.research.google.com/github/Vihelisa/dados.Python/blob/main/DWD_PCS_Rain_data.ipynb\" target=\"_parent\"><img src=\"https://colab.research.google.com/assets/colab-badge.svg\" alt=\"Open In Colab\"/></a>"
      ]
    },
    {
      "cell_type": "code",
      "metadata": {
        "id": "0rz2ek8g1sSu"
      },
      "source": [
        "def rename_csv(name):\r\n",
        "  name = name.split('.') #nome de cada local\r\n",
        "  name = name[0].split('_')\r\n",
        "  name = name[0] + '_' + name[3] + '_' + name[4]\r\n",
        "  return name"
      ],
      "execution_count": null,
      "outputs": []
    },
    {
      "cell_type": "code",
      "metadata": {
        "id": "zU2qU0gdVRQG"
      },
      "source": [
        "def add_empty_col(df):\r\n",
        "  df['A'] = \"\"\r\n",
        "  df['B'] = \"\"\r\n",
        "  df['C'] = \"\"\r\n",
        "  df['D'] = \"\"\r\n",
        "  df['E'] = \"\"\r\n",
        "  df['F'] = \"\"\r\n",
        "  df['G'] = \"\"\r\n",
        "  df['H'] = \"\"\r\n",
        "  df['I'] = \"\"\r\n",
        "  return df\r\n",
        "  #adiciona um espaçamento de 9 colunas vazias ao dataframe de saída"
      ],
      "execution_count": null,
      "outputs": []
    },
    {
      "cell_type": "code",
      "metadata": {
        "id": "VASukenO_3I_"
      },
      "source": [
        "def export_precipitation_with_owner(read_csv, csv_name):\r\n",
        "  read_csv['DateTime_col'] = read_csv['date'].map(str).str.replace('T', ' ') #na coluna date trandorma ela em uma string e coloca no luga do 'T' um espaço, para que possa tranformar os dados da tabela em datetime \r\n",
        "  read_csv['DateTime_col'] = pd.to_datetime(read_csv['DateTime_col']) #transforma os dados da tabela date em datetime \r\n",
        "  read_csv.set_index('DateTime_col', inplace=True) #transforma em index\r\n",
        "  #read_csv.drop(['date'], axis=1, inplace=True)\r\n",
        "  read_csv['RainF'] = read_csv['precipitationCal'].apply(pd.to_numeric) #transforma a coluna date em um objeto numérico para ser usado no resample\r\n",
        "  hour_series = read_csv.resample('D').RainF.sum()#cria um novo dataframe onde tranforma os dados da coluna date em dados diários \r\n",
        "  df = hour_series.to_frame() #criando dataframe de saída\r\n",
        "  #Coluna date vira index ja em formato date time \r\n",
        "  df = df.rename(columns={'RainF': csv_name}) #Renomeia as colunas de acordo com o nome do local\r\n",
        "  df = add_empty_col(df)\r\n",
        "  return df"
      ],
      "execution_count": null,
      "outputs": []
    },
    {
      "cell_type": "code",
      "metadata": {
        "id": "CPZ4XF-2W2AY"
      },
      "source": [
        "#importando bibliotecas:\r\n",
        "import os\r\n",
        "import pandas as pd\r\n",
        "import datetime"
      ],
      "execution_count": null,
      "outputs": []
    },
    {
      "cell_type": "code",
      "metadata": {
        "id": "TzlzXKneTGss",
        "colab": {
          "base_uri": "https://localhost:8080/"
        },
        "outputId": "09bffc6b-9f1a-469d-d25b-be6635e9aedf"
      },
      "source": [
        "#importando o drive no colab\r\n",
        "from google.colab import drive\r\n",
        "drive.mount('/content/drive')"
      ],
      "execution_count": null,
      "outputs": [
        {
          "output_type": "stream",
          "text": [
            "Drive already mounted at /content/drive; to attempt to forcibly remount, call drive.mount(\"/content/drive\", force_remount=True).\n"
          ],
          "name": "stdout"
        }
      ]
    },
    {
      "cell_type": "code",
      "metadata": {
        "id": "VcQdTlQtaqTQ"
      },
      "source": [
        "#abrindo a pasta onde estão os arquivos:\r\n",
        "path ='/content/drive/MyDrive/Arquivos'\r\n",
        "files_name = sorted(os.listdir(path))\r\n",
        "#print(files_name)\r\n"
      ],
      "execution_count": null,
      "outputs": []
    },
    {
      "cell_type": "code",
      "metadata": {
        "id": "WeLrau7rszgv"
      },
      "source": [
        "#abrindo os arquivos em loop:\r\n",
        "df_result = pd.DataFrame()\r\n",
        "for files_csv in files_name:\r\n",
        "  #print(files_csv)                                 \r\n",
        "  path_file = path + '/' + files_csv #caminho para abrir os arquivos\r\n",
        "  csv_name = rename_csv(files_csv)\r\n",
        "  #print(csv_name) \r\n",
        "  df = pd.DataFrame()\r\n",
        "  read_csv = pd.read_csv(path_file, usecols=['date', 'precipitationCal']) #do arquivo dado, apenas as colunas indicadas na função serão lidas\r\n",
        "  df = export_precipitation_with_owner(read_csv, csv_name)\r\n",
        "  df_result = pd.concat([df_result, df], axis=1)\r\n",
        "  #df_result = df_result[['data', result]]\r\n",
        "\r\n",
        "\r\n",
        "  #read_csv.head()\r\n"
      ],
      "execution_count": null,
      "outputs": []
    },
    {
      "cell_type": "code",
      "metadata": {
        "id": "PTCnGCkK4r1z"
      },
      "source": [
        "df_result.describe()"
      ],
      "execution_count": null,
      "outputs": []
    },
    {
      "cell_type": "code",
      "metadata": {
        "id": "CKfQ6amACVwQ"
      },
      "source": [
        "df_result.head()\r\n",
        "#Pega as 5 primeras linhas e as 5 últimas"
      ],
      "execution_count": null,
      "outputs": []
    },
    {
      "cell_type": "code",
      "metadata": {
        "id": "6OA9Tlk0QaVE",
        "colab": {
          "base_uri": "https://localhost:8080/"
        },
        "outputId": "90c91db0-d158-4b54-c69d-88f073787c9c"
      },
      "source": [
        "output_file_name = input('Indique o nome do arquivo') + '.csv'\r\n",
        "df_result.to_csv(output_file_name, index=True)\r\n",
        "#O usuário deve escrever qual será o nome do novo arquivo em csv "
      ],
      "execution_count": null,
      "outputs": [
        {
          "output_type": "stream",
          "text": [
            "Indique o nome do arquivo2202\n"
          ],
          "name": "stdout"
        }
      ]
    },
    {
      "cell_type": "code",
      "metadata": {
        "id": "G3tJyJwQp-Vs"
      },
      "source": [
        ""
      ],
      "execution_count": null,
      "outputs": []
    }
  ]
}