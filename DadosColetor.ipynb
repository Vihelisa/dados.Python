{
  "nbformat": 4,
  "nbformat_minor": 0,
  "metadata": {
    "colab": {
      "name": "DadosColetor.ipynb",
      "provenance": [],
      "authorship_tag": "ABX9TyMyOwRsOiyejKJHlNH6CSaX",
      "include_colab_link": true
    },
    "kernelspec": {
      "display_name": "Python 3",
      "name": "python3"
    }
  },
  "cells": [
    {
      "cell_type": "markdown",
      "metadata": {
        "id": "view-in-github",
        "colab_type": "text"
      },
      "source": [
        "<a href=\"https://colab.research.google.com/github/Vihelisa/dados.Python/blob/main/DadosColetor.ipynb\" target=\"_parent\"><img src=\"https://colab.research.google.com/assets/colab-badge.svg\" alt=\"Open In Colab\"/></a>"
      ]
    },
    {
      "cell_type": "markdown",
      "metadata": {
        "id": "FpWGI5T-N6uG"
      },
      "source": [
        "vetor e quebra de string \r\n"
      ]
    },
    {
      "cell_type": "code",
      "metadata": {
        "id": "NioNDl7wngGA"
      },
      "source": [
        "x='15/1_11:7M1b.11P3c.46'"
      ],
      "execution_count": 1,
      "outputs": []
    },
    {
      "cell_type": "code",
      "metadata": {
        "id": "aC7D1b_-pIfk"
      },
      "source": [
        "\r\n",
        "def f1(input):\r\n",
        "  resultado=x.split('M')\r\n",
        "  return resultado\r\n"
      ],
      "execution_count": 2,
      "outputs": []
    },
    {
      "cell_type": "code",
      "metadata": {
        "id": "Tr0VZOyrqGQK"
      },
      "source": [
        "f2=f1(x)[0].split('_')\r\n",
        "f3=f1(x)[1].split('P')"
      ],
      "execution_count": 13,
      "outputs": []
    },
    {
      "cell_type": "code",
      "metadata": {
        "colab": {
          "base_uri": "https://localhost:8080/"
        },
        "id": "MqG5cl79zbb_",
        "outputId": "d360b34f-d72f-4966-b1e5-9293a54720b9"
      },
      "source": [
        "f2\r\n"
      ],
      "execution_count": 14,
      "outputs": [
        {
          "output_type": "execute_result",
          "data": {
            "text/plain": [
              "['15/1', '11:7']"
            ]
          },
          "metadata": {
            "tags": []
          },
          "execution_count": 14
        }
      ]
    },
    {
      "cell_type": "code",
      "metadata": {
        "colab": {
          "base_uri": "https://localhost:8080/"
        },
        "id": "FZR1Pq760JAm",
        "outputId": "85bbc16b-2e30-494c-f74b-b4b2f9372626"
      },
      "source": [
        "f3"
      ],
      "execution_count": 15,
      "outputs": [
        {
          "output_type": "execute_result",
          "data": {
            "text/plain": [
              "['1b.11', '3c.46']"
            ]
          },
          "metadata": {
            "tags": []
          },
          "execution_count": 15
        }
      ]
    },
    {
      "cell_type": "code",
      "metadata": {
        "colab": {
          "base_uri": "https://localhost:8080/"
        },
        "id": "xiFIeH5c0QFt",
        "outputId": "0fb923d0-7ad3-4449-bf60-82f4b7496474"
      },
      "source": [
        "print('Data:', f2[0])\r\n",
        "print('Hora:', f2[1])\r\n",
        "print('Temperatura:', f3[0])\r\n",
        "print('Humidade:', f3[1])\r\n"
      ],
      "execution_count": 18,
      "outputs": [
        {
          "output_type": "stream",
          "text": [
            "Data: 15/1\n",
            "Hora: 11:7\n",
            "Temperatura: 1b.11\n",
            "Humidade: 3c.46\n"
          ],
          "name": "stdout"
        }
      ]
    }
  ]
}