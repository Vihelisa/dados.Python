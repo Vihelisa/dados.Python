{
  "nbformat": 4,
  "nbformat_minor": 0,
  "metadata": {
    "colab": {
      "name": "DadosColetor.ipynb",
      "provenance": [],
      "authorship_tag": "ABX9TyMB6K8CH9dlg15amkn0ZA40",
      "include_colab_link": true
    },
    "kernelspec": {
      "display_name": "Python 3",
      "name": "python3"
    }
  },
  "cells": [
    {
      "cell_type": "markdown",
      "metadata": {
        "id": "view-in-github",
        "colab_type": "text"
      },
      "source": [
        "<a href=\"https://colab.research.google.com/github/Vihelisa/dados.Python/blob/main/DadosColetor.ipynb\" target=\"_parent\"><img src=\"https://colab.research.google.com/assets/colab-badge.svg\" alt=\"Open In Colab\"/></a>"
      ]
    },
    {
      "cell_type": "markdown",
      "metadata": {
        "id": "FpWGI5T-N6uG"
      },
      "source": [
        "vetor e quebra de string \r\n"
      ]
    },
    {
      "cell_type": "code",
      "metadata": {
        "id": "NioNDl7wngGA"
      },
      "source": [
        "DadoLinhaInteira ='15/1_11:7M1b.11P3c.46'"
      ],
      "execution_count": 1,
      "outputs": []
    },
    {
      "cell_type": "code",
      "metadata": {
        "id": "aC7D1b_-pIfk"
      },
      "source": [
        "\r\n",
        "def dividir(input):\r\n",
        "  resultado = DadoLinhaInteira.split('M')\r\n",
        "  return resultado\r\n"
      ],
      "execution_count": 2,
      "outputs": []
    },
    {
      "cell_type": "code",
      "metadata": {
        "id": "Tr0VZOyrqGQK"
      },
      "source": [
        "Dado_DH = dividir(DadoLinhaInteira)[0].split('_')\r\n",
        "Dado_TH = dividir(DadoLinhaInteira)[1].split('P')"
      ],
      "execution_count": 3,
      "outputs": []
    },
    {
      "cell_type": "code",
      "metadata": {
        "colab": {
          "base_uri": "https://localhost:8080/"
        },
        "id": "MqG5cl79zbb_",
        "outputId": "6a68348e-6917-4457-cd3c-89c3997ba604"
      },
      "source": [
        "Dado_DH"
      ],
      "execution_count": 4,
      "outputs": [
        {
          "output_type": "execute_result",
          "data": {
            "text/plain": [
              "['15/1', '11:7']"
            ]
          },
          "metadata": {
            "tags": []
          },
          "execution_count": 4
        }
      ]
    },
    {
      "cell_type": "code",
      "metadata": {
        "colab": {
          "base_uri": "https://localhost:8080/"
        },
        "id": "FZR1Pq760JAm",
        "outputId": "82517251-ddb1-48cd-ac3d-44b54961226e"
      },
      "source": [
        "Dado_TH"
      ],
      "execution_count": 5,
      "outputs": [
        {
          "output_type": "execute_result",
          "data": {
            "text/plain": [
              "['1b.11', '3c.46']"
            ]
          },
          "metadata": {
            "tags": []
          },
          "execution_count": 5
        }
      ]
    },
    {
      "cell_type": "code",
      "metadata": {
        "id": "KSqmgoYEqZt1"
      },
      "source": [
        "lista_dados = [Dado_DH[0], Dado_DH[1], Dado_TH[0], Dado_TH[1]]"
      ],
      "execution_count": 6,
      "outputs": []
    },
    {
      "cell_type": "code",
      "metadata": {
        "id": "TIGOIzG6s_9A"
      },
      "source": [
        "dados_dict = {\r\n",
        "    'Data': lista_dados[0], 'Hora':lista_dados[1], 'Temperatura':lista_dados[2], 'Humidade':lista_dados[3]\r\n",
        "    }"
      ],
      "execution_count": 7,
      "outputs": []
    },
    {
      "cell_type": "code",
      "metadata": {
        "id": "D3VhKR_MuFnU",
        "outputId": "f0bb2ab3-a9af-4e41-ac3f-90adeda5e6a6",
        "colab": {
          "base_uri": "https://localhost:8080/"
        }
      },
      "source": [
        "dados_dict"
      ],
      "execution_count": 8,
      "outputs": [
        {
          "output_type": "execute_result",
          "data": {
            "text/plain": [
              "{'Data': '15/1', 'Hora': '11:7', 'Humidade': '3c.46', 'Temperatura': '1b.11'}"
            ]
          },
          "metadata": {
            "tags": []
          },
          "execution_count": 8
        }
      ]
    },
    {
      "cell_type": "markdown",
      "metadata": {
        "id": "1IBKSQa225Wb"
      },
      "source": [
        "PANDAS\r\n"
      ]
    },
    {
      "cell_type": "code",
      "metadata": {
        "id": "ttQcFe7728aS"
      },
      "source": [
        "import pandas as pd \r\n",
        "\r\n",
        "data = [dados_dict]\r\n",
        "\r\n",
        "df = pd.DataFrame(data)"
      ],
      "execution_count": 9,
      "outputs": []
    },
    {
      "cell_type": "code",
      "metadata": {
        "id": "2M0KAdGe4Dp0",
        "outputId": "fe415087-baec-43a9-d085-220fc57fa17f",
        "colab": {
          "base_uri": "https://localhost:8080/",
          "height": 77
        }
      },
      "source": [
        "df "
      ],
      "execution_count": 10,
      "outputs": [
        {
          "output_type": "execute_result",
          "data": {
            "text/html": [
              "<div>\n",
              "<style scoped>\n",
              "    .dataframe tbody tr th:only-of-type {\n",
              "        vertical-align: middle;\n",
              "    }\n",
              "\n",
              "    .dataframe tbody tr th {\n",
              "        vertical-align: top;\n",
              "    }\n",
              "\n",
              "    .dataframe thead th {\n",
              "        text-align: right;\n",
              "    }\n",
              "</style>\n",
              "<table border=\"1\" class=\"dataframe\">\n",
              "  <thead>\n",
              "    <tr style=\"text-align: right;\">\n",
              "      <th></th>\n",
              "      <th>Data</th>\n",
              "      <th>Hora</th>\n",
              "      <th>Temperatura</th>\n",
              "      <th>Humidade</th>\n",
              "    </tr>\n",
              "  </thead>\n",
              "  <tbody>\n",
              "    <tr>\n",
              "      <th>0</th>\n",
              "      <td>15/1</td>\n",
              "      <td>11:7</td>\n",
              "      <td>1b.11</td>\n",
              "      <td>3c.46</td>\n",
              "    </tr>\n",
              "  </tbody>\n",
              "</table>\n",
              "</div>"
            ],
            "text/plain": [
              "   Data  Hora Temperatura Humidade\n",
              "0  15/1  11:7       1b.11    3c.46"
            ]
          },
          "metadata": {
            "tags": []
          },
          "execution_count": 10
        }
      ]
    }
  ]
}